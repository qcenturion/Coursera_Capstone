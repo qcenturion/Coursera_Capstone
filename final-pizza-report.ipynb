{
 "cells": [
  {
   "cell_type": "markdown",
   "metadata": {},
   "source": [
    "# Building a Pizza Content Recommender Using Foursquare API Data"
   ]
  },
  {
   "cell_type": "markdown",
   "metadata": {},
   "source": [
    "### Outline:<br>\n",
    "1. Introduction\n",
    "2. Data\n",
    "\n"
   ]
  },
  {
   "cell_type": "markdown",
   "metadata": {},
   "source": [
    "## 1. Introduction"
   ]
  },
  {
   "cell_type": "markdown",
   "metadata": {},
   "source": [
    "The problem we are trying to solve with this project is to find a pizza place that a specific user will probably enjoy, as everyone's time is limited and trying all places even within a given geographical area is impractical.\n",
    "To this end, the procedure is to analyze the data available on Foursquare that describes pizza places in order to extract review keywords, user ratings, and other data describing these restaurants, and build a content recommendation system. The data comes mostly from the Foursquare API. For this project, we will focus specifically on the greatest place in the world for pizza: Chicago, Illinois (and the greater metro area). The Foursquare API allows only 500 \"premium\" calls per day; premium calls being required to return review text (\"tips\"), and images. Returning more premium calls would require upgrading to a paid/commercial Foursquare API license, which is beyond the scope of this project (though we do end up making premium calls over a 3 day period to collect more data). <br><br>\n",
    "\n",
    "The stakeholders are those people that want to find good, enjoyable pizza, or even get an idea of whether or not they would enjoy a specific unknown (to them) place. The end goal is an algorithm that asks for a user to give feedback on a few places that they have tried (either positive or negative experiences), and be able to recommend or advise against other nearby venues. The type of recommendation engine we will build is a _content based_ engine, rather than taking the collaborative filtering approach. This problem is interesting because other food-centric content recommender systems in the literature use the _type_ of food as a feature, which assumes that users liking pizza will like all pizza, which is clearly flawed. "
   ]
  },
  {
   "cell_type": "markdown",
   "metadata": {},
   "source": [
    "## 2. Data"
   ]
  },
  {
   "cell_type": "markdown",
   "metadata": {},
   "source": [
    "The data for this project was requested via the Foursquare.com API. First, we will access data.gov for latitude and longitude data for Illinois counties near Chicago. Then, we use the Foursquare API to query for pizza places near those locations. The data we return is quite messy, and we need a way to parse the data effectively into a dataframe. As part of the data cleaning, we will only keep features which include tips, ratings, rating count, price tier, and categories. We also keep identifying information such as name, address and location (lat/long). Since establishments that are missing any of these features won't be usable, we will omit those from our analysis. The tip data is a string of characters and the additional categories are categorical. Rating, rating count and pricing tier data are integers, but the pricing tier _should_ be an ordinal variable (pricing tiers have an order but are non-numeric), so we will make sure to convert it as such. "
   ]
  },
  {
   "cell_type": "code",
   "execution_count": null,
   "metadata": {},
   "outputs": [],
   "source": []
  }
 ],
 "metadata": {
  "kernelspec": {
   "display_name": "DataScience",
   "language": "python",
   "name": "datascience"
  },
  "language_info": {
   "codemirror_mode": {
    "name": "ipython",
    "version": 3
   },
   "file_extension": ".py",
   "mimetype": "text/x-python",
   "name": "python",
   "nbconvert_exporter": "python",
   "pygments_lexer": "ipython3",
   "version": "3.6.10"
  }
 },
 "nbformat": 4,
 "nbformat_minor": 4
}
